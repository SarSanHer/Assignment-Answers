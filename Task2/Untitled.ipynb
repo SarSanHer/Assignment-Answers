{
 "cells": [
  {
   "cell_type": "markdown",
   "metadata": {},
   "source": [
    "# Web access"
   ]
  },
  {
   "cell_type": "code",
   "execution_count": 11,
   "metadata": {},
   "outputs": [
    {
     "data": {
      "text/plain": [
       ":get_interactions"
      ]
     },
     "execution_count": 11,
     "metadata": {},
     "output_type": "execute_result"
    }
   ],
   "source": [
    "require 'rest-client'\n",
    "require './web_access'\n",
    "\n",
    "##------------------- Mark's fuction to prevent web accessing errors --------------------\n",
    "#puts \"now I load the fetch function\"\n",
    "def fetch(url, headers = {accept: \"*/*\"}, user = \"\", pass=\"\")\n",
    "  response = RestClient::Request.execute({\n",
    "    method: :get,\n",
    "    url: url.to_s,\n",
    "    user: user,\n",
    "    password: pass,\n",
    "    headers: headers})\n",
    "  return response\n",
    "  \n",
    "  rescue RestClient::ExceptionWithResponse => e\n",
    "    $stderr.puts e.response\n",
    "    response = false\n",
    "    return response  # now we are returning 'False', and we will check that with an \\\"if\\\" statement in our main code\n",
    "  rescue RestClient::Exception => e\n",
    "    $stderr.puts e.response\n",
    "    response = false\n",
    "    return response  # now we are returning 'False', and we will check that with an \\\"if\\\" statement in our main code\n",
    "  rescue Exception => e\n",
    "    $stderr.puts e\n",
    "    response = false\n",
    "    return response  # now we are returning 'False', and we will check that with an \\\"if\\\" statement in our main code\n",
    "end\n",
    "\n",
    "\n",
    "#####\n",
    "#####      WEB ACCESSING FUNCTIONS \n",
    "#####\n",
    "\n",
    "#------------------- get protein ID --------------------\n",
    "def get_protID(my_gene)\n",
    "  address=\"http://togows.org/entry/ebi-uniprot/#{my_gene}/accessions.json\"\n",
    "  response = fetch(address)  \n",
    "  if response  # if there is a response to calling that URI\n",
    "    body = response.body  # get the \"body\" of the response\n",
    "    data = JSON.parse(response.body)\n",
    "    return data[0]\n",
    "  end\n",
    "end\n",
    "\n",
    "#------------------- get KEGG annotations --------------------\n",
    "def get_KEGG(my_gene)\n",
    "  address = \"http://togows.org/entry/kegg-genes/ath:#{my_gene}/pathways.json\"\n",
    "  my_KEGG_list=Array.new\n",
    "  response = fetch(address)  \n",
    "  if response  # if there is a response to calling that URI\n",
    "    body = response.body  # get the \"body\" of the response\n",
    "    data = JSON.parse(response.body)\n",
    "    my_KEGG_list.push(data[0].to_a)\n",
    "    unless data[0].nil?\n",
    "      if data[0].length != 0\n",
    "        my_KEGG_list = data[0].to_a\n",
    "      end\n",
    "    end\n",
    "    return my_KEGG_list\n",
    "  else \n",
    "    return Array.new\n",
    "  end\n",
    "end\n",
    "\n",
    "\n",
    "#------------------- get GO annotations --------------------\n",
    "def get_GO(my_gene)\n",
    "  address = \"http://togows.dbcls.jp/entry/uniprot/#{my_gene}/dr.json\"\n",
    "  my_GO_list=Array.new\n",
    "  response = fetch(address)  \n",
    "  if response  # if there is a response to calling that URI\n",
    "    body = response.body  # get the \"body\" of the response\n",
    "    data = JSON.parse(response.body)\n",
    "    if data[0][\"GO\"]\n",
    "      data[0][\"GO\"].each do |go| \n",
    "      if go[1] =~ /P:/#if its a biological process it will have the key 'P'\n",
    "        my_GO_list.push(go[0..1])\n",
    "      end\n",
    "    end\n",
    "      return my_GO_list\n",
    "    end\n",
    "  else \n",
    "    return Array.new\n",
    "  end\n",
    "end\n",
    "\n",
    "\n",
    "#------------------- get gene interactions --------------------\n",
    "\n",
    "def get_interactions(my_gene,all_genes)\n",
    "  address=\"http://www.ebi.ac.uk/Tools/webservices/psicquic/intact/webservices/current/search/query/#{my_gene}?format=tab25\"\n",
    "  response = fetch(address)\n",
    "  interactions_array=Array.new\n",
    "  #puts \"get_interactions function has been called\"\n",
    "  \n",
    "  if response  # if there is a response to calling that URI\n",
    "    body = response.body  # get the \"body\" of the response\n",
    "    data = body.split(\"\\n\").to_a #first I split the rows into different arrays\n",
    "\n",
    "\n",
    "    (0..data.length-1).each do |i|\n",
    "      \n",
    "      data[i] = data[i].split(\"\\t\") #then I create an array's element per each tab separated value \n",
    "      \n",
    "      \n",
    "      unless data[i][9].include?(\"3702\") && data[i][10].include?(\"3702\") #if both proteins are NOT from Arabidopsis thaliana (taxa code 3702)\n",
    "        next # discard this protein interaction, jumps to next posible interaction\n",
    "      end\n",
    "        \n",
    "        \n",
    "      intact_miscore = data[i][14].split(\":\")[1]\n",
    "      if intact_miscore.to_f < 0.485  # if interaction's score is under cutoff (according to doi:10.1093/database/bau131)\n",
    "        next # discard this protein interaction, jumps to next posible interaction\n",
    "      end\n",
    "          \n",
    "    \n",
    "      data[i] = data[i][4..5] #these columns of the tab25 format cointain the gene locus name      \n",
    "      (0..data[i].length-1).each do |k|\n",
    "        #puts data[i][k].scan(/A[Tt]\\d[Gg]\\d\\d\\d\\d\\d/)\n",
    "        interactions_array.push(data[i][k].scan(/A[Tt]\\d[Gg]\\d\\d\\d\\d\\d/)) #find the agi code in the text, retrieve it and add it to the array\n",
    "        end\n",
    "      end    \n",
    "\n",
    "\n",
    "    \n",
    "    interactions_array = interactions_array.flatten.uniq  #unnest the arrray, delete repetitions and interactions with itself\n",
    "    interactions_array.map!(&:upcase) #make all the codes uppercase so that I can compare them latter\n",
    "    interactions_array = interactions_array- [my_gene.upcase] #dont include my own gene as an interaction\n",
    "    #puts \"interactions_array created\"\n",
    "    \n",
    "    return interactions_array\n",
    "    \n",
    "  end\n",
    "end\n"
   ]
  },
  {
   "cell_type": "code",
   "execution_count": 12,
   "metadata": {
    "collapsed": true
   },
   "outputs": [
    {
     "data": {
      "text/plain": [
       "AT4g27030\n",
       "AT5g54270\n",
       "AT1g21400\n",
       "AT5g19120\n",
       "AT2g13360\n",
       "AT4g05180\n",
       "AT1g22690\n",
       "AT2g45170\n",
       "AT4g09650\n",
       "AT5g55620\n",
       "AT1g31330\n",
       "AT1g80440\n",
       "AT3g28270\n",
       "AT4g12800\n",
       "AT5g04140\n",
       "AT5g64040\n",
       "AT1g29660\n",
       "AT1g15820\n",
       "AT1g64500\n",
       "AT1g03130\n",
       "AT2g20670\n",
       "AT4g17090\n",
       "AT1g23740\n",
       "AT2g46340\n",
       "AT4g17460\n",
       "AT1g07010\n",
       "AT1g32220\n",
       "AT2g03750\n",
       "AT3g47470\n",
       "AT4g12830\n",
       "AT5g05690\n",
       "AT5g64410\n",
       "AT2g21330\n",
       "AT1g15980\n",
       "AT2g01890\n",
       "AT1g12250\n",
       "AT2g21210\n",
       "AT4g28660\n",
       "AT1g52230\n",
       "AT3g18890\n",
       "AT4g22890\n",
       "AT1g11850\n",
       "AT1g37130\n",
       "AT2g04039\n",
       "AT3g48420\n",
       "AT4g19170\n",
       "AT5g07020\n",
       "AT5g65010\n",
       "AT3g01500\n",
       "AT1g25230\n",
       "AT2g34430\n",
       "AT1g18060\n",
       "AT2g30600\n",
       "AT4g33010\n",
       "AT1g65490\n",
       "AT3g21670\n",
       "AT4g27260\n",
       "AT1g12780\n",
       "AT1g55480\n",
       "AT2g17880\n",
       "AT3g49160\n",
       "AT4g21210\n",
       "AT5g14740\n",
       "AT4g37980\n",
       "AT1g29395\n",
       "AT2g39730\n",
       "AT1g20020\n",
       "AT2g34420\n",
       "AT4g37800\n",
       "AT1g70820\n",
       "AT3g26740\n",
       "AT4g28780\n",
       "AT1g12900\n",
       "AT1g64680\n",
       "AT2g25200\n",
       "AT3g55800\n",
       "AT4g21280\n",
       "AT5g15850\n",
       "AT1g06680\n",
       "AT2g43550\n",
       "AT3g02730\n",
       "AT1g42970\n",
       "AT2g39470\n",
       "AT5g17300\n",
       "AT1g77490\n",
       "AT3g27690\n",
       "AT5g01015\n",
       "AT1g14150\n",
       "AT1g64720\n",
       "AT2g26080\n",
       "AT3g56940\n",
       "AT4g28030\n",
       "AT5g20250\n",
       "AT1g54040\n",
       "AT3g21870\n",
       "AT3g48360\n",
       "AT1g61520\n",
       "AT2g43010\n",
       "AT5g22920\n",
       "AT1g78370\n",
       "AT3g28220\n",
       "AT5g11070\n",
       "AT1g23205\n",
       "AT1g68010\n",
       "AT2g26740\n",
       "AT3g61470\n",
       "AT4g28750\n",
       "AT5g24210\n",
       "AT1g71030\n",
       "AT3g54050\n",
       "AT3g54890\n",
       "AT1g72610\n",
       "AT3g08940\n",
       "AT5g62280\n",
       "AT2g18700\n",
       "AT3g45780\n",
       "AT5g18670\n",
       "AT1g28330\n",
       "AT1g68570\n",
       "AT2g30950\n",
       "AT3g62410\n",
       "AT4g33660\n",
       "AT5g35170\n",
       "AT3g16250\n",
       "AT1g09340\n",
       "AT3g63140\n",
       "AT1g76080\n",
       "AT3g46780\n",
       "AT1g02640\n",
       "AT2g33830\n",
       "AT3g47340\n",
       "AT5g35630\n",
       "AT1g29910\n",
       "AT1g69870\n",
       "AT2g47930\n",
       "AT4g02530\n",
       "AT4g38840\n",
       "AT5g43750\n",
       "AT3g50820\n",
       "AT1g13930\n",
       "AT4g37610\n",
       "AT1g76100\n",
       "AT3g61260\n",
       "AT1g08380\n",
       "AT2g38210\n",
       "AT4g04640\n",
       "AT5g38990\n",
       "AT1g29920\n",
       "AT1g74730\n",
       "AT3g05730\n",
       "AT4g02770\n",
       "AT4g39710\n",
       "AT5g48300\n",
       "AT5g48490\n",
       "AT1g20440\n",
       "AT5g02160\n",
       "AT2g05540\n",
       "AT3g62550\n",
       "AT1g14280\n",
       "AT2g43100\n",
       "AT4g09010\n",
       "AT5g49360\n",
       "AT1g30380\n",
       "AT1g78460\n",
       "AT3g16140\n",
       "AT4g12310\n",
       "AT5g01530\n",
       "AT5g58260\n"
      ]
     },
     "execution_count": 12,
     "metadata": {},
     "output_type": "execute_result"
    }
   ],
   "source": [
    "#------------------- LOAD INFO FROM GENE FILE --------------------\n",
    "\n",
    "#Now I open the gene file and create some arrays that will help create the Class objects\n",
    "gene_file = File.new(\"/Users/sara/BioCompu/Programming_challenges/Task2/ArabidopsisSubNetwork_GeneList.txt\",\"r\")\n",
    "\n",
    "genes_list=Array.new \n",
    "gene_file.each do |agi| # iterate over the elements of gene_file\n",
    "  genes_list.push(agi.strip.upcase!) #add AGI codes to a list\n",
    "end"
   ]
  },
  {
   "cell_type": "markdown",
   "metadata": {},
   "source": [
    "\n",
    ">\n",
    "\n",
    "# Network generator"
   ]
  },
  {
   "cell_type": "code",
   "execution_count": 50,
   "metadata": {},
   "outputs": [
    {
     "data": {
      "text/plain": [
       ":interaction_connections"
      ]
     },
     "execution_count": 50,
     "metadata": {},
     "output_type": "execute_result"
    }
   ],
   "source": [
    "def interactions(mygenes_array)\n",
    "  output_array=Array.new\n",
    "  mygenes_array.each do |gene|\n",
    "    interactions = get_interactions(gene,mygenes_array)\n",
    "      if interactions != [] # if there are interacions\n",
    "        output_array.push([gene,interactions].flatten) # add that interaction as [my_gene,interaction1,interaction2, ...] \n",
    "      end\n",
    "  end\n",
    "  return output_array\n",
    "end\n",
    "\n",
    "def get_interactions_array(all_genes_array, my_genes)\n",
    "  new_level=Array.new\n",
    "  all_genes_array.each do |int| #takes each [my_gene,interaction1,interaction2, ...] \n",
    "    new_level.push(int[1..-1]) # include only [interaction1,interaction2, ...], exclude my_gene\n",
    "  end\n",
    "  new_level.flatten!.uniq! # un-nest array and remove duplications\n",
    "  new_level = new_level - (new_level & my_genes) #do not include genes from the previous interaction level\n",
    "  return new_level\n",
    "end\n"
   ]
  },
  {
   "cell_type": "code",
   "execution_count": 51,
   "metadata": {
    "collapsed": true
   },
   "outputs": [
    {
     "data": {
      "text/plain": [
       "[[\"AT5G04140\", \"AT4G37930\"], [\"AT4G17460\", \"AT3G07220\", \"AT1G70920\", \"AT3G15030\", \"AT2G44910\", \"AT4G16780\", \"AT5G12980\", \"AT3G60390\", \"AT5G47370\", \"AT2G22800\", \"AT2G45680\", \"AT1G30490\", \"AT4G37790\"], [\"AT4G22890\", \"AT1G60950\"], [\"AT4G19170\", \"AT5G17790\"], [\"AT5G15850\", \"AT1G26780\", \"AT4G10240\", \"AT5G27910\", \"AT2G31380\", \"AT1G08970\", \"AT5G54470\", \"AT4G38960\", \"AT1G42050\", \"AT5G65050\", \"AT4G12210\", \"AT3G02150\", \"AT3G01140\", \"AT3G07220\", \"AT5G23000\", \"AT2G46340\", \"AT2G46350\", \"AT3G15354\", \"AT1G53090\"], [\"AT5G17300\", \"AT3G15030\", \"AT5G08330\", \"AT1G76510\", \"AT1G60250\", \"AT3G02150\", \"AT3G18550\", \"AT5G15210\"], [\"AT1G54040\", \"AT4G23810\"], [\"AT3G21870\", \"AT3G48750\"], [\"AT3G48360\", \"AT4G09570\"], [\"AT2G43010\", \"AT1G09530\", \"AT2G18790\", \"AT1G09570\"], [\"AT1G71030\", \"AT1G60250\", \"AT4G09820\", \"AT1G56650\", \"AT4G32980\"], [\"AT3G45780\", \"AT5G64330\"], [\"AT3G62410\", \"AT3G26650\"], [\"AT3G61260\", \"AT3G17210\", \"AT3G48040\", \"AT3G55440\"], [\"AT4G39710\", \"AT4G03280\"]]"
      ]
     },
     "execution_count": 51,
     "metadata": {},
     "output_type": "execute_result"
    }
   ],
   "source": [
    "int_L1=interactions(genes_list) #interactions of co-expressed genes -> [my_geneA, interaction1, interaction2, ...]"
   ]
  },
  {
   "cell_type": "code",
   "execution_count": 64,
   "metadata": {
    "collapsed": true
   },
   "outputs": [
    {
     "data": {
      "text/plain": [
       "[\"AT4G27030\", \"AT5G54270\", \"AT1G21400\", \"AT5G19120\", \"AT2G13360\", \"AT4G05180\", \"AT1G22690\", \"AT2G45170\", \"AT4G09650\", \"AT5G55620\", \"AT1G31330\", \"AT1G80440\", \"AT3G28270\", \"AT4G12800\", \"AT5G04140\", \"AT5G64040\", \"AT1G29660\", \"AT1G15820\", \"AT1G64500\", \"AT1G03130\", \"AT2G20670\", \"AT4G17090\", \"AT1G23740\", \"AT2G46340\", \"AT4G17460\", \"AT1G07010\", \"AT1G32220\", \"AT2G03750\", \"AT3G47470\", \"AT4G12830\", \"AT5G05690\", \"AT5G64410\", \"AT2G21330\", \"AT1G15980\", \"AT2G01890\", \"AT1G12250\", \"AT2G21210\", \"AT4G28660\", \"AT1G52230\", \"AT3G18890\", \"AT4G22890\", \"AT1G11850\", \"AT1G37130\", \"AT2G04039\", \"AT3G48420\", \"AT4G19170\", \"AT5G07020\", \"AT5G65010\", \"AT3G01500\", \"AT1G25230\", \"AT2G34430\", \"AT1G18060\", \"AT2G30600\", \"AT4G33010\", \"AT1G65490\", \"AT3G21670\", \"AT4G27260\", \"AT1G12780\", \"AT1G55480\", \"AT2G17880\", \"AT3G49160\", \"AT4G21210\", \"AT5G14740\", \"AT4G37980\", \"AT1G29395\", \"AT2G39730\", \"AT1G20020\", \"AT2G34420\", \"AT4G37800\", \"AT1G70820\", \"AT3G26740\", \"AT4G28780\", \"AT1G12900\", \"AT1G64680\", \"AT2G25200\", \"AT3G55800\", \"AT4G21280\", \"AT5G15850\", \"AT1G06680\", \"AT2G43550\", \"AT3G02730\", \"AT1G42970\", \"AT2G39470\", \"AT5G17300\", \"AT1G77490\", \"AT3G27690\", \"AT5G01015\", \"AT1G14150\", \"AT1G64720\", \"AT2G26080\", \"AT3G56940\", \"AT4G28030\", \"AT5G20250\", \"AT1G54040\", \"AT3G21870\", \"AT3G48360\", \"AT1G61520\", \"AT2G43010\", \"AT5G22920\", \"AT1G78370\", \"AT3G28220\", \"AT5G11070\", \"AT1G23205\", \"AT1G68010\", \"AT2G26740\", \"AT3G61470\", \"AT4G28750\", \"AT5G24210\", \"AT1G71030\", \"AT3G54050\", \"AT3G54890\", \"AT1G72610\", \"AT3G08940\", \"AT5G62280\", \"AT2G18700\", \"AT3G45780\", \"AT5G18670\", \"AT1G28330\", \"AT1G68570\", \"AT2G30950\", \"AT3G62410\", \"AT4G33660\", \"AT5G35170\", \"AT3G16250\", \"AT1G09340\", \"AT3G63140\", \"AT1G76080\", \"AT3G46780\", \"AT1G02640\", \"AT2G33830\", \"AT3G47340\", \"AT5G35630\", \"AT1G29910\", \"AT1G69870\", \"AT2G47930\", \"AT4G02530\", \"AT4G38840\", \"AT5G43750\", \"AT3G50820\", \"AT1G13930\", \"AT4G37610\", \"AT1G76100\", \"AT3G61260\", \"AT1G08380\", \"AT2G38210\", \"AT4G04640\", \"AT5G38990\", \"AT1G29920\", \"AT1G74730\", \"AT3G05730\", \"AT4G02770\", \"AT4G39710\", \"AT5G48300\", \"AT5G48490\", \"AT1G20440\", \"AT5G02160\", \"AT2G05540\", \"AT3G62550\", \"AT1G14280\", \"AT2G43100\", \"AT4G09010\", \"AT5G49360\", \"AT1G30380\", \"AT1G78460\", \"AT3G16140\", \"AT4G12310\", \"AT5G01530\", \"AT5G58260\", \"AT4G37930\", \"AT3G07220\", \"AT1G70920\", \"AT3G15030\", \"AT2G44910\", \"AT4G16780\", \"AT5G12980\", \"AT3G60390\", \"AT5G47370\", \"AT2G22800\", \"AT2G45680\", \"AT1G30490\", \"AT4G37790\", \"AT1G60950\", \"AT5G17790\", \"AT1G26780\", \"AT4G10240\", \"AT5G27910\", \"AT2G31380\", \"AT1G08970\", \"AT5G54470\", \"AT4G38960\", \"AT1G42050\", \"AT5G65050\", \"AT4G12210\", \"AT3G02150\", \"AT3G01140\", \"AT5G23000\", \"AT2G46350\", \"AT3G15354\", \"AT1G53090\", \"AT5G08330\", \"AT1G76510\", \"AT1G60250\", \"AT3G18550\", \"AT5G15210\", \"AT4G23810\", \"AT3G48750\", \"AT4G09570\", \"AT1G09530\", \"AT2G18790\", \"AT1G09570\", \"AT4G09820\", \"AT1G56650\", \"AT4G32980\", \"AT5G64330\", \"AT3G26650\", \"AT3G17210\", \"AT3G48040\", \"AT3G55440\", \"AT4G03280\"]"
      ]
     },
     "execution_count": 64,
     "metadata": {},
     "output_type": "execute_result"
    }
   ],
   "source": [
    "genes_L2 = get_interactions_array(int_L1,genes_list) #[interaction1, interaction2, ...] with no duplicates\n",
    "pre_int_L2 = interactions(genes_L2) # interactions of first level interactions -> [interaction1, intA, my_geneA, interaction 2, ...]\n",
    "members = [genes_list,genes_L2].flatten!"
   ]
  },
  {
   "cell_type": "code",
   "execution_count": 67,
   "metadata": {
    "collapsed": true
   },
   "outputs": [
    {
     "data": {
      "text/plain": [
       "[[\"AT4G37930\", \"AT5G04140\"], [\"AT3G07220\", \"AT1G21200\", \"AT5G39760\", \"AT1G54060\", \"AT1G11510\", \"AT3G16500\", \"AT5G67300\", \"AT3G28920\", \"AT1G32640\", \"AT5G06950\", \"AT4G02640\", \"AT4G16780\", \"AT4G03250\", \"AT5G57180\", \"AT3G54390\", \"AT5G01380\", \"AT5G53950\", \"AT3G61600\", \"AT5G60970\", \"AT4G37940\", \"AT4G17460\", \"AT1G30460\", \"AT1G25550\", \"AT4G00390\", \"AT2G38250\", \"AT5G47370\", \"AT2G02540\", \"AT2G25650\", \"AT3G21810\", \"AT1G04370\", \"AT1G60250\", \"AT5G13790\", \"AT1G43700\", \"AT3G23030\", \"AT2G01940\", \"AT1G61730\", \"AT4G00270\", \"AT4G06634\", \"AT2G46970\", \"AT1G42220\", \"AT3G21175\", \"AT5G28040\", \"AT5G15210\", \"AT3G15030\", \"AT3G45150\", \"AT5G15850\"], [\"AT1G70920\", \"AT2G44910\", \"AT4G16780\", \"AT3G60390\", \"AT2G22800\", \"AT4G37790\", \"AT4G17460\", \"AT5G47370\"], [\"AT3G15030\", \"AT1G30500\", \"AT5G61380\", \"AT1G01160\", \"AT5G17300\", \"AT4G20380\", \"AT5G65210\", \"AT3G11580\", \"AT5G26749\", \"AT5G08070\", \"AT3G20260\", \"AT3G02150\", \"AT1G30490\", \"AT1G35490\", \"AT4G37940\", \"AT1G68360\", \"AT2G17950\", \"AT2G47700\", \"AT1G72210\", \"AT1G75520\", \"AT1G66810\", \"AT1G08970\", \"AT1G42050\", \"AT5G53950\", \"AT4G36260\", \"AT5G38800\", \"AT1G30460\", \"AT1G69170\", \"AT1G46480\", \"AT5G12980\", \"AT2G41940\", \"AT3G57920\", \"AT5G09750\", \"AT3G50700\", \"AT2G38130\", \"AT4G17460\", \"AT3G49940\", \"AT5G42910\", \"AT1G23420\", \"AT3G01970\", \"AT1G08320\", \"AT5G14170\", \"AT1G31140\", \"AT5G66350\", \"AT5G60970\", \"AT4G27330\", \"AT2G29580\", \"AT2G33290\", \"AT2G04038\", \"AT4G00870\", \"AT5G28640\", \"AT1G10480\", \"AT2G25620\", \"AT2G33835\", \"AT1G20700\", \"AT2G02450\", \"AT2G04890\", \"AT1G04250\", \"AT5G27910\", \"AT5G59430\", \"AT1G24625\", \"AT2G28610\", \"AT3G58070\", \"AT1G14030\", \"AT5G23000\", \"AT3G20910\", \"AT3G50870\", \"AT5G60120\", \"AT5G25160\", \"AT5G54360\", \"AT4G36540\", \"AT1G69120\", \"AT5G26650\", \"AT5G37260\", \"AT5G43620\", \"AT2G21530\", \"AT1G26780\", \"AT1G69560\", \"AT5G67180\", \"AT3G58630\", \"AT4G37740\", \"AT5G06160\", \"AT3G07740\", \"AT4G37180\", \"AT5G61270\", \"AT1G07360\", \"AT1G19790\", \"AT3G13960\", \"AT3G14020\", \"AT1G16640\", \"AT4G29100\", \"AT1G69570\", \"AT2G02060\", \"AT2G02060\", \"AT2G41690\", \"AT1G13400\", \"AT4G02670\", \"AT5G63090\", \"AT4G16780\", \"AT4G01460\", \"AT3G60390\", \"AT3G51060\", \"AT2G42280\", \"AT2G13570\", \"AT2G18120\", \"AT2G33710\", \"AT1G53170\", \"AT1G68480\", \"AT1G28360\", \"AT1G15050\", \"AT4G00220\", \"AT4G08150\", \"AT5G50570\", \"AT1G75080\", \"AT2G33860\", \"AT2G36026\", \"AT3G01220\", \"AT3G05690\", \"AT5G16560\", \"AT4G13640\", \"AT3G26620\", \"AT5G62610\", \"AT5G57420\", \"AT3G07220\", \"AT2G45190\", \"AT2G34720\", \"AT2G35430\", \"AT2G40260\", \"AT2G30590\", \"AT2G31220\", \"AT2G17600\", \"AT2G03710\", \"AT1G77920\", \"AT2G01930\", \"AT1G22070\", \"AT1G17590\", \"AT1G13450\", \"AT1G05710\", \"AT4G10240\", \"AT5G47370\", \"AT5G59570\", \"AT3G15210\", \"AT3G21150\", \"AT4G00180\", \"AT1G02170\"], [\"AT2G44910\", \"AT1G70920\", \"AT1G30490\", \"AT4G37790\", \"AT4G17460\", \"AT4G03250\", \"AT5G12980\", \"AT5G24520\", \"AT4G16780\", \"AT2G33290\", \"AT5G47370\"], [\"AT4G16780\", \"AT3G20260\", \"AT1G70920\", \"AT3G02150\", \"AT3G07220\", \"AT5G47370\", \"AT4G37790\", \"AT3G60390\", \"AT1G30490\", \"AT4G17460\", \"AT4G03250\", \"AT5G12980\", \"AT3G15030\", \"AT2G44910\"], [\"AT5G12980\", \"AT1G19220\", \"AT1G31630\", \"AT1G43700\", \"AT5G01380\", \"AT1G68320\", \"AT2G28160\", \"AT3G60390\", \"AT4G04450\", \"AT5G03720\", \"AT5G61380\", \"AT1G51140\", \"AT5G50915\", \"AT2G18300\", \"AT1G05805\", \"AT5G47220\", \"AT1G52830\", \"AT5G28770\", \"AT1G32640\", \"AT2G41900\", \"AT5G25890\", \"AT1G35560\", \"AT5G51910\", \"AT3G18550\", \"AT1G69690\", \"AT3G11100\", \"AT1G04100\", \"AT2G31070\", \"AT5G23280\", \"AT5G42520\", \"AT2G47700\", \"AT3G15030\", \"AT5G38800\", \"AT1G22070\", \"AT5G43700\", \"AT3G29035\", \"AT3G19860\", \"AT4G34530\", \"AT3G28920\", \"AT4G37180\", \"AT2G27110\", \"AT3G23240\", \"AT3G47620\", \"AT1G01260\", \"AT3G57600\", \"AT4G17785\", \"AT5G15840\", \"AT2G45680\", \"AT3G01220\", \"AT3G12910\", \"AT3G21810\", \"AT1G76870\", \"AT3G02150\", \"AT3G23690\", \"AT3G44350\", \"AT3G56230\", \"AT4G14560\", \"AT4G15250\", \"AT4G32570\", \"AT2G33500\", \"AT2G40140\", \"AT4G17460\", \"AT2G23290\", \"AT5G60970\", \"AT1G04240\", \"AT2G33310\", \"AT2G43220\", \"AT3G51910\", \"AT5G18450\", \"AT5G44190\", \"AT4G37740\", \"AT5G09250\", \"AT1G34670\", \"AT1G49720\", \"AT1G69780\", \"AT5G18560\", \"AT2G24790\", \"AT1G68240\", \"AT1G10240\", \"AT5G39760\", \"AT5G42910\", \"AT2G47460\", \"AT3G20640\", \"AT3G23030\", \"AT4G08455\", \"AT4G16780\", \"AT1G45249\", \"AT1G58100\", \"AT1G61660\", \"AT2G25650\", \"AT2G27230\", \"AT2G30130\", \"AT5G45300\", \"AT5G62000\", \"AT5G67110\", \"AT3G19290\", \"AT4G00870\", \"AT5G09750\", \"AT5G12870\", \"AT2G18120\", \"AT2G44910\", \"AT2G46970\", \"AT3G14180\", \"AT1G60250\", \"AT5G25190\", \"AT5G08130\", \"AT5G06950\", \"AT4G39070\", \"AT4G21340\", \"AT3G57390\", \"AT3G11440\", \"AT3G14230\", \"AT3G16500\", \"AT3G17600\", \"AT1G67710\", \"AT1G75530\", \"AT1G51600\", \"AT1G62300\", \"AT2G04038\", \"AT2G20570\", \"AT2G41690\", \"AT2G43000\", \"AT1G10170\", \"AT1G12890\", \"AT1G13450\", \"AT5G60120\", \"AT5G62610\", \"AT4G37940\", \"AT4G27950\", \"AT4G09180\", \"AT3G57800\", \"AT3G58630\", \"AT3G45150\", \"AT3G28917\", \"AT2G46680\", \"AT2G42280\", \"AT2G38250\", \"AT2G32460\", \"AT2G24260\", \"AT2G22760\", \"AT1G75540\", \"AT2G01940\", \"AT1G67260\", \"AT1G53910\", \"AT1G19790\", \"AT1G21200\", \"AT3G21330\", \"AT3G62610\", \"AT4G01720\", \"AT4G00270\", \"AT4G04885\", \"AT4G29080\", \"AT4G27410\", \"AT4G37780\", \"AT5G28300\", \"AT5G22380\", \"AT5G08330\", \"AT5G67300\"], [\"AT3G60390\", \"AT5G12980\", \"AT1G70920\", \"AT5G47370\", \"AT4G16780\", \"AT4G37790\", \"AT1G30490\", \"AT4G17460\", \"AT3G15030\", \"AT2G40260\", \"AT5G62920\"], [\"AT5G47370\", \"AT4G16780\", \"AT3G60390\", \"AT4G14560\", \"AT1G70920\", \"AT3G07220\", \"AT3G02150\", \"AT4G17460\", \"AT2G22800\", \"AT1G30490\", \"AT3G15030\", \"AT2G44910\"], [\"AT2G22800\", \"AT3G53310\", \"AT1G70920\", \"AT5G41580\", \"AT4G17460\", \"AT5G47370\", \"AT5G18037\", \"AT2G40260\", \"AT4G37790\"], [\"AT2G45680\", \"AT1G26780\", \"AT1G28360\", \"AT1G77920\", \"AT2G29580\", \"AT4G37180\", \"AT4G37740\", \"AT5G06160\", \"AT5G65210\", \"AT5G23280\", \"AT1G08970\", \"AT1G35560\", \"AT1G19860\", \"AT2G41690\", \"AT2G34720\", \"AT4G36260\", \"AT5G60970\", \"AT3G15210\", \"AT5G37260\", \"AT2G33290\", \"AT1G16640\", \"AT5G12980\", \"AT2G02450\", \"AT5G26749\", \"AT5G47390\", \"AT1G58100\", \"AT2G25620\", \"AT5G39660\", \"AT1G75520\", \"AT4G20380\", \"AT5G08330\", \"AT1G68360\", \"AT5G28640\", \"AT3G20910\", \"AT1G75080\", \"AT1G23420\", \"AT4G17460\", \"AT2G02060\", \"AT2G02060\", \"AT1G35490\", \"AT1G04250\", \"AT3G24490\", \"AT3G47640\", \"AT3G51080\", \"AT5G26650\", \"AT3G20260\", \"AT1G69690\", \"AT1G72210\", \"AT2G33710\", \"AT3G47620\", \"AT4G00180\", \"AT3G26620\", \"AT3G01970\", \"AT2G45190\", \"AT5G54360\", \"AT5G25160\", \"AT2G27110\", \"AT2G04038\", \"AT2G13570\", \"AT1G79350\", \"AT1G72010\", \"AT1G51120\", \"AT1G20700\", \"AT5G59430\", \"AT3G02150\", \"AT3G57230\", \"AT5G09750\", \"AT1G05710\"], [\"AT1G30490\", \"AT1G19220\", \"AT5G09750\", \"AT5G09460\", \"AT4G08150\", \"AT3G13960\", \"AT2G33860\", \"AT1G58100\", \"AT3G20260\", \"AT1G08320\", \"AT2G31070\", \"AT3G02150\", \"AT5G60970\", \"AT3G15030\", \"AT3G47620\", \"AT4G32570\", \"AT2G44910\", \"AT1G58110\", \"AT1G04100\", \"AT5G08130\", \"AT4G16780\", \"AT3G16500\", \"AT3G60390\", \"AT1G61660\", \"AT2G42280\", \"AT5G60120\", \"AT4G03250\", \"AT1G69690\", \"AT5G15130\", \"AT2G02070\", \"AT5G67110\", \"AT2G01940\", \"AT4G04885\", \"AT3G14180\", \"AT5G50010\", \"AT2G46970\", \"AT4G17460\", \"AT5G47370\", \"AT5G66350\", \"AT1G12980\", \"AT1G24590\"], [\"AT4G37790\", \"AT1G70920\", \"AT4G16780\", \"AT3G60390\", \"AT2G44910\", \"AT1G14030\", \"AT2G22800\", \"AT1G03800\", \"AT4G17460\", \"AT5G24590\"], [\"AT1G60950\", \"AT4G22890\"], [\"AT5G17790\", \"AT4G19170\"], [\"AT1G26780\", \"AT5G45710\", \"AT5G15850\", \"AT5G08330\", \"AT3G18550\", \"AT2G45680\", \"AT1G35560\", \"AT3G15030\", \"AT1G69690\", \"AT2G31070\", \"AT3G47620\", \"AT3G20260\"], [\"AT4G10240\", \"AT5G08330\", \"AT1G51600\", \"AT4G38960\", \"AT2G21320\", \"AT1G25440\", \"AT3G21175\", \"AT5G15850\", \"AT4G39070\", \"AT2G47890\", \"AT5G11260\", \"AT2G24790\", \"AT1G06040\", \"AT3G45150\", \"AT3G17609\", \"AT1G08000\", \"AT5G05330\", \"AT1G08010\", \"AT2G31380\", \"AT5G15840\", \"AT2G31070\", \"AT3G15030\", \"AT1G69690\", \"AT3G47620\", \"AT3G61910\", \"AT5G54470\", \"AT5G50570\", \"AT4G15248\"], [\"AT5G27910\", \"AT5G41380\", \"AT2G47890\", \"AT5G47670\", \"AT3G02380\", \"AT2G33500\", \"AT3G53340\", \"AT4G15250\", \"AT1G25440\", \"AT1G49130\", \"AT1G07050\", \"AT1G09030\", \"AT3G21880\", \"AT2G37060\", \"AT1G73870\", \"AT3G12890\", \"AT2G13570\", \"AT5G15840\", \"AT5G15850\", \"AT2G38880\", \"AT5G57180\", \"AT5G23280\", \"AT4G20380\", \"AT2G47810\", \"AT4G14540\", \"AT2G24790\", \"AT1G69180\", \"AT3G02150\", \"AT5G47640\", \"AT3G15030\", \"AT3G47620\", \"AT1G69690\", \"AT2G02540\", \"AT1G28050\", \"AT4G14713\", \"AT1G51600\", \"AT2G31070\", \"AT5G08330\", \"AT1G35560\", \"AT1G23420\", \"AT3G18550\", \"AT3G45150\", \"AT4G27950\"], [\"AT2G31380\", \"AT5G15850\", \"AT4G10240\", \"AT3G17609\", \"AT3G21150\", \"AT5G11260\"], [\"AT1G08970\", \"AT5G11260\", \"AT5G08070\", \"AT3G45150\", \"AT1G49130\", \"AT1G35490\", \"AT1G25440\", \"AT1G31630\", \"AT1G35560\", \"AT5G41380\", \"AT3G18550\", \"AT5G59430\", \"AT5G47670\", \"AT1G28050\", \"AT1G63820\", \"AT1G69690\", \"AT3G47620\", \"AT1G09030\", \"AT5G23280\", \"AT5G15840\", \"AT5G61380\", \"AT2G38880\", \"AT3G20910\", \"AT2G13570\", \"AT3G05690\", \"AT2G37060\", \"AT2G45680\", \"AT3G14020\", \"AT2G33350\", \"AT5G08330\", \"AT4G24470\", \"AT3G15030\", \"AT2G47890\", \"AT1G58100\", \"AT1G17590\", \"AT3G53340\", \"AT5G60970\", \"AT4G20380\", \"AT4G14720\", \"AT2G47810\", \"AT1G30500\", \"AT4G14540\", \"AT5G15850\", \"AT1G51600\", \"AT3G21175\", \"AT3G02150\", \"AT4G15250\", \"AT5G47640\", \"AT2G33500\", \"AT3G12890\", \"AT5G57180\", \"AT2G31070\", \"AT2G34720\", \"AT3G02380\", \"AT1G07050\", \"AT1G54160\", \"AT2G24790\", \"AT2G46670\", \"AT1G73870\", \"AT3G21880\", \"AT2G46790\", \"AT4G14713\"], [\"AT5G54470\", \"AT3G07650\", \"AT2G46260\", \"AT5G15840\", \"AT4G15250\", \"AT1G28050\", \"AT2G33500\", \"AT3G02380\", \"AT3G21880\", \"AT5G15850\", \"AT2G24790\", \"AT2G47890\", \"AT1G25440\", \"AT1G73870\", \"AT1G42220\", \"AT1G06040\", \"AT3G21150\", \"AT4G10240\"], [\"AT4G38960\", \"AT2G33500\", \"AT5G15840\", \"AT4G10240\", \"AT3G21150\", \"AT2G21320\", \"AT2G46790\", \"AT2G24790\", \"AT5G60100\", \"AT2G46670\", \"AT5G15850\", \"AT3G21880\", \"AT4G15248\", \"AT2G47890\", \"AT1G28050\", \"AT3G02380\", \"AT3G07650\"], [\"AT5G65050\", \"AT5G15850\", \"AT5G53290\"], [\"AT4G12210\", \"AT5G15850\"], [\"AT3G02150\", \"AT1G33240\", \"AT4G34990\", \"AT1G72570\", \"AT2G33860\", \"AT1G28360\", \"AT5G14170\", \"AT5G25160\", \"AT1G68360\", \"AT5G17800\", \"AT2G33290\", \"AT4G08150\", \"AT5G04820\", \"AT3G01220\", \"AT1G30460\", \"AT1G30490\", \"AT1G35490\", \"AT5G06160\", \"AT5G28640\", \"AT3G15030\", \"AT3G20260\", \"AT4G16780\", \"AT2G41940\", \"AT3G07740\", \"AT1G14030\", \"AT2G33835\", \"AT1G23420\", \"AT2G04038\", \"AT1G46480\", \"AT2G29580\", \"AT4G37940\", \"AT5G38800\", \"AT1G07360\", \"AT5G26749\", \"AT1G75520\", \"AT2G31070\", \"AT1G69690\", \"AT5G60970\", \"AT1G05710\", \"AT1G58100\", \"AT1G24625\", \"AT1G69810\", \"AT1G19860\", \"AT1G08970\", \"AT2G13570\", \"AT5G27910\", \"AT2G25620\", \"AT2G40260\", \"AT1G20700\", \"AT2G34720\", \"AT1G13450\", \"AT5G37260\", \"AT3G24490\", \"AT2G47700\", \"AT4G03250\", \"AT5G12980\", \"AT4G00870\", \"AT4G10600\", \"AT3G15210\", \"AT4G36260\", \"AT5G09460\", \"AT5G47370\", \"AT5G67180\", \"AT2G36740\", \"AT2G41690\", \"AT5G54360\", \"AT5G23280\", \"AT5G50010\", \"AT5G53950\", \"AT2G17950\", \"AT3G01970\", \"AT1G30500\", \"AT5G09750\", \"AT5G65210\", \"AT3G47620\", \"AT1G17590\", \"AT4G01460\", \"AT5G15850\", \"AT5G63090\", \"AT1G69180\", \"AT2G38130\", \"AT3G13960\", \"AT3G20910\", \"AT3G24520\", \"AT5G66940\", \"AT5G17300\", \"AT2G46735\", \"AT2G36000\", \"AT2G36026\", \"AT2G02060\", \"AT2G02060\", \"AT2G02450\", \"AT1G72210\", \"AT1G53170\", \"AT4G27330\", \"AT4G37180\", \"AT5G25220\", \"AT5G39660\", \"AT5G48890\", \"AT3G50700\", \"AT2G45680\", \"AT1G03040\", \"AT1G04250\", \"AT5G63350\"], [\"AT3G01140\", \"AT1G58100\", \"AT5G01380\", \"AT1G05230\", \"AT1G69690\", \"AT3G47620\", \"AT5G15850\", \"AT5G23280\", \"AT1G35560\"], [\"AT5G23000\", \"AT3G47620\", \"AT1G69690\", \"AT5G28640\", \"AT3G15030\", \"AT5G15850\"], [\"AT3G15354\", \"AT2G32950\", \"AT2G46340\", \"AT2G46350\", \"AT5G15850\", \"AT1G53090\"], [\"AT1G53090\", \"AT2G32950\", \"AT2G46340\", \"AT2G46350\", \"AT5G15850\", \"AT3G15354\"], [\"AT5G08330\", \"AT1G05710\", \"AT1G26780\", \"AT1G35490\", \"AT1G35560\", \"AT4G10240\", \"AT2G29580\", \"AT5G17300\", \"AT5G37260\", \"AT1G48790\", \"AT3G20260\", \"AT4G10600\", \"AT1G08970\", \"AT3G47620\", \"AT5G51910\", \"AT1G58100\", \"AT1G69690\", \"AT5G60970\", \"AT2G13570\", \"AT3G15210\", \"AT2G45680\", \"AT5G26749\", \"AT2G33290\", \"AT2G25620\", \"AT1G19860\", \"AT4G20380\", \"AT1G20700\", \"AT1G20980\", \"AT5G27910\", \"AT1G75080\", \"AT2G33835\", \"AT3G01970\", \"AT4G34530\", \"AT5G05120\", \"AT2G33710\", \"AT1G75520\", \"AT1G77450\", \"AT2G02060\", \"AT2G02060\", \"AT5G25220\", \"AT4G01460\", \"AT5G53950\", \"AT5G26650\", \"AT5G25160\", \"AT5G12980\"], [\"AT1G76510\", \"AT5G17300\", \"AT2G22740\", \"AT1G06040\", \"AT3G61740\", \"AT3G52250\", \"AT2G36720\", \"AT2G31730\", \"AT4G11400\", \"AT2G18350\"], [\"AT1G60250\", \"AT1G19790\", \"AT1G30135\", \"AT2G40260\", \"AT1G68130\", \"AT2G38300\", \"AT4G37180\", \"AT2G14210\", \"AT1G46480\", \"AT1G53170\", \"AT1G71030\", \"AT1G04445\", \"AT2G42660\", \"AT3G49940\", \"AT2G18120\", \"AT2G17950\", \"AT4G01500\", \"AT5G17300\", \"AT1G07360\", \"AT2G41940\", \"AT5G16560\", \"AT5G07100\", \"AT2G01940\", \"AT3G11260\", \"AT3G58070\", \"AT4G21610\", \"AT5G57520\", \"AT5G26749\", \"AT5G60120\", \"AT1G69120\", \"AT3G07260\", \"AT1G10480\", \"AT5G42630\", \"AT1G68150\", \"AT4G34990\", \"AT5G09750\", \"AT5G25160\", \"AT2G28610\", \"AT1G68360\", \"AT1G75520\", \"AT3G07220\", \"AT3G23130\", \"AT4G20380\", \"AT1G30970\", \"AT5G12980\", \"AT3G18010\", \"AT3G25790\", \"AT3G57670\", \"AT4G33450\", \"AT1G20980\", \"AT1G08320\", \"AT2G33835\", \"AT2G42410\", \"AT3G15210\", \"AT5G43620\", \"AT5G66350\", \"AT5G67180\", \"AT5G60970\", \"AT3G51180\", \"AT1G66810\", \"AT1G30460\"], [\"AT3G18550\", \"AT1G14030\", \"AT1G26780\", \"AT1G35490\", \"AT1G08970\", \"AT5G12980\", \"AT5G26749\", \"AT1G46480\", \"AT5G38800\", \"AT5G37260\", \"AT2G25620\", \"AT2G33290\", \"AT5G06160\", \"AT5G57180\", \"AT1G69170\", \"AT1G72210\", \"AT2G02450\", \"AT2G04038\", \"AT2G13570\", \"AT2G42280\", \"AT2G40260\", \"AT2G33835\", \"AT2G29580\", \"AT2G17950\", \"AT1G75520\", \"AT3G20260\", \"AT4G03250\", \"AT5G09460\", \"AT5G09750\", \"AT5G25160\", \"AT5G54360\", \"AT5G59430\", \"AT5G53950\", \"AT5G27910\", \"AT5G17800\", \"AT5G17300\", \"AT5G05120\", \"AT4G37180\", \"AT4G00870\", \"AT3G24490\"], [\"AT5G15210\", \"AT1G14030\", \"AT1G23420\", \"AT1G35490\", \"AT2G02060\", \"AT2G02060\", \"AT4G37180\", \"AT3G01220\", \"AT4G33450\", \"AT5G37260\", \"AT5G39760\", \"AT5G65410\", \"AT3G50890\", \"AT3G28920\", \"AT5G06160\", \"AT3G01970\", \"AT3G24490\", \"AT2G36740\", \"AT2G40260\", \"AT1G72210\", \"AT5G04820\", \"AT3G28917\", \"AT1G51120\", \"AT2G18350\", \"AT3G07220\", \"AT2G41690\", \"AT4G03250\", \"AT5G65210\", \"AT5G54360\", \"AT5G42780\", \"AT5G17300\"], [\"AT4G23810\", \"AT5G37780\", \"AT1G66410\", \"AT5G21274\", \"AT3G51920\", \"AT1G54040\", \"AT4G08500\"], [\"AT3G48750\", \"AT3G50630\", \"AT2G23430\", \"AT3G24810\", \"AT4G34160\", \"AT2G27960\", \"AT5G48820\", \"AT2G32710\", \"AT1G49620\", \"AT3G19150\", \"AT3G21870\", \"AT2G44740\", \"AT5G61650\", \"AT2G22490\", \"AT5G65420\"], [\"AT4G09570\", \"AT5G21940\", \"AT1G56280\", \"AT4G14830\", \"AT3G48360\", \"AT1G02280\"], [\"AT1G09530\", \"AT2G43010\", \"AT2G18790\", \"AT1G09570\", \"AT1G02340\", \"AT2G20180\"], [\"AT2G18790\", \"AT5G35840\", \"AT4G16250\", \"AT4G18130\", \"AT1G10470\", \"AT1G09530\", \"AT2G43010\", \"AT2G02950\", \"AT2G20180\", \"AT1G04400\"], [\"AT1G09570\", \"AT1G09530\", \"AT2G43010\", \"AT2G02950\", \"AT5G02200\", \"AT2G37678\"], [\"AT4G09820\", \"AT4G01060\", \"AT5G24520\", \"AT1G56650\", \"AT5G35550\", \"AT1G66380\", \"AT1G71030\", \"AT5G53200\", \"AT1G66390\"], [\"AT1G56650\", \"AT1G18710\", \"AT4G09820\", \"AT2G30420\", \"AT5G45710\", \"AT5G41410\", \"AT1G72450\", \"AT1G71030\", \"AT4G39250\", \"AT5G41315\", \"AT1G63650\", \"AT4G00480\"], [\"AT4G32980\", \"AT4G08150\", \"AT1G71030\", \"AT1G73830\", \"AT1G62360\", \"AT1G69690\"], [\"AT5G64330\", \"AT3G45780\"], [\"AT3G26650\", \"AT3G62410\"], [\"AT3G17210\", \"AT1G71140\", \"AT1G33100\", \"AT3G61260\", \"AT2G19580\", \"AT1G70520\"], [\"AT3G48040\", \"AT3G61260\", \"AT1G70520\", \"AT3G46280\"], [\"AT3G55440\", \"AT2G04040\", \"AT2G31360\", \"AT1G70520\", \"AT3G61260\", \"AT3G16180\", \"AT1G33100\"], [\"AT4G03280\", \"AT4G39710\"]]"
      ]
     },
     "execution_count": 67,
     "metadata": {},
     "output_type": "execute_result"
    }
   ],
   "source": [
    "int_L2=[]\n",
    "pre_int_L2.each do |int|\n",
    "  real_int=[]\n",
    "  int[1..-1].each do |gen_inter|\n",
    "    if members.include? gen_inter\n",
    "      real_int.push(gen_inter)\n",
    "    end\n",
    "  end\n",
    "  int_L2.push([int[0],real_int].flatten)\n",
    "end\n",
    "      \n"
   ]
  },
  {
   "cell_type": "code",
   "execution_count": null,
   "metadata": {
    "scrolled": true
   },
   "outputs": [],
   "source": []
  },
  {
   "cell_type": "code",
   "execution_count": 69,
   "metadata": {
    "collapsed": true
   },
   "outputs": [
    {
     "data": {
      "text/plain": [
       "[[\"AT5G04140\", \"AT4G37930\"], [\"AT4G17460\", \"AT3G07220\", \"AT1G70920\", \"AT3G15030\", \"AT2G44910\", \"AT4G16780\", \"AT5G12980\", \"AT3G60390\", \"AT5G47370\", \"AT2G22800\", \"AT2G45680\", \"AT1G30490\", \"AT4G37790\"], [\"AT4G22890\", \"AT1G60950\"], [\"AT4G19170\", \"AT5G17790\"], [\"AT5G15850\", \"AT1G26780\", \"AT4G10240\", \"AT5G27910\", \"AT2G31380\", \"AT1G08970\", \"AT5G54470\", \"AT4G38960\", \"AT1G42050\", \"AT5G65050\", \"AT4G12210\", \"AT3G02150\", \"AT3G01140\", \"AT3G07220\", \"AT5G23000\", \"AT2G46340\", \"AT2G46350\", \"AT3G15354\", \"AT1G53090\"], [\"AT5G17300\", \"AT3G15030\", \"AT5G08330\", \"AT1G76510\", \"AT1G60250\", \"AT3G02150\", \"AT3G18550\", \"AT5G15210\"], [\"AT1G54040\", \"AT4G23810\"], [\"AT3G21870\", \"AT3G48750\"], [\"AT3G48360\", \"AT4G09570\"], [\"AT2G43010\", \"AT1G09530\", \"AT2G18790\", \"AT1G09570\"], [\"AT1G71030\", \"AT1G60250\", \"AT4G09820\", \"AT1G56650\", \"AT4G32980\"], [\"AT3G45780\", \"AT5G64330\"], [\"AT3G62410\", \"AT3G26650\"], [\"AT3G61260\", \"AT3G17210\", \"AT3G48040\", \"AT3G55440\"], [\"AT4G39710\", \"AT4G03280\"], [\"AT4G37930\", \"AT5G04140\"], [\"AT3G07220\", \"AT4G16780\", \"AT4G17460\", \"AT5G47370\", \"AT1G60250\", \"AT5G15210\", \"AT3G15030\", \"AT5G15850\"], [\"AT1G70920\", \"AT2G44910\", \"AT4G16780\", \"AT3G60390\", \"AT2G22800\", \"AT4G37790\", \"AT4G17460\", \"AT5G47370\"], [\"AT3G15030\", \"AT5G17300\", \"AT3G02150\", \"AT1G30490\", \"AT1G08970\", \"AT1G42050\", \"AT5G12980\", \"AT4G17460\", \"AT5G27910\", \"AT5G23000\", \"AT1G26780\", \"AT4G16780\", \"AT3G60390\", \"AT3G07220\", \"AT4G10240\", \"AT5G47370\"], [\"AT2G44910\", \"AT1G70920\", \"AT1G30490\", \"AT4G37790\", \"AT4G17460\", \"AT5G12980\", \"AT4G16780\", \"AT5G47370\"], [\"AT4G16780\", \"AT1G70920\", \"AT3G02150\", \"AT3G07220\", \"AT5G47370\", \"AT4G37790\", \"AT3G60390\", \"AT1G30490\", \"AT4G17460\", \"AT5G12980\", \"AT3G15030\", \"AT2G44910\"], [\"AT5G12980\", \"AT3G60390\", \"AT3G18550\", \"AT3G15030\", \"AT2G45680\", \"AT3G02150\", \"AT4G17460\", \"AT4G16780\", \"AT2G44910\", \"AT1G60250\", \"AT5G08330\"], [\"AT3G60390\", \"AT5G12980\", \"AT1G70920\", \"AT5G47370\", \"AT4G16780\", \"AT4G37790\", \"AT1G30490\", \"AT4G17460\", \"AT3G15030\"], [\"AT5G47370\", \"AT4G16780\", \"AT3G60390\", \"AT1G70920\", \"AT3G07220\", \"AT3G02150\", \"AT4G17460\", \"AT2G22800\", \"AT1G30490\", \"AT3G15030\", \"AT2G44910\"], [\"AT2G22800\", \"AT1G70920\", \"AT4G17460\", \"AT5G47370\", \"AT4G37790\"], [\"AT2G45680\", \"AT1G26780\", \"AT1G08970\", \"AT5G12980\", \"AT5G08330\", \"AT4G17460\", \"AT3G02150\"], [\"AT1G30490\", \"AT3G02150\", \"AT3G15030\", \"AT2G44910\", \"AT4G16780\", \"AT3G60390\", \"AT4G17460\", \"AT5G47370\"], [\"AT4G37790\", \"AT1G70920\", \"AT4G16780\", \"AT3G60390\", \"AT2G44910\", \"AT2G22800\", \"AT4G17460\"], [\"AT1G60950\", \"AT4G22890\"], [\"AT5G17790\", \"AT4G19170\"], [\"AT1G26780\", \"AT5G15850\", \"AT5G08330\", \"AT3G18550\", \"AT2G45680\", \"AT3G15030\"], [\"AT4G10240\", \"AT5G08330\", \"AT4G38960\", \"AT5G15850\", \"AT2G31380\", \"AT3G15030\", \"AT5G54470\"], [\"AT5G27910\", \"AT5G15850\", \"AT3G02150\", \"AT3G15030\", \"AT5G08330\", \"AT3G18550\"], [\"AT2G31380\", \"AT5G15850\", \"AT4G10240\"], [\"AT1G08970\", \"AT3G18550\", \"AT2G45680\", \"AT5G08330\", \"AT3G15030\", \"AT5G15850\", \"AT3G02150\"], [\"AT5G54470\", \"AT5G15850\", \"AT4G10240\"], [\"AT4G38960\", \"AT4G10240\", \"AT5G15850\"], [\"AT5G65050\", \"AT5G15850\"], [\"AT4G12210\", \"AT5G15850\"], [\"AT3G02150\", \"AT1G30490\", \"AT3G15030\", \"AT4G16780\", \"AT1G08970\", \"AT5G27910\", \"AT5G12980\", \"AT5G47370\", \"AT5G15850\", \"AT5G17300\", \"AT2G45680\"], [\"AT3G01140\", \"AT5G15850\"], [\"AT5G23000\", \"AT3G15030\", \"AT5G15850\"], [\"AT3G15354\", \"AT2G46340\", \"AT2G46350\", \"AT5G15850\", \"AT1G53090\"], [\"AT1G53090\", \"AT2G46340\", \"AT2G46350\", \"AT5G15850\", \"AT3G15354\"], [\"AT5G08330\", \"AT1G26780\", \"AT4G10240\", \"AT5G17300\", \"AT1G08970\", \"AT2G45680\", \"AT5G27910\", \"AT5G12980\"], [\"AT1G76510\", \"AT5G17300\"], [\"AT1G60250\", \"AT1G71030\", \"AT5G17300\", \"AT3G07220\", \"AT5G12980\"], [\"AT3G18550\", \"AT1G26780\", \"AT1G08970\", \"AT5G12980\", \"AT5G27910\", \"AT5G17300\"], [\"AT5G15210\", \"AT3G07220\", \"AT5G17300\"], [\"AT4G23810\", \"AT1G54040\"], [\"AT3G48750\", \"AT3G21870\"], [\"AT4G09570\", \"AT3G48360\"], [\"AT1G09530\", \"AT2G43010\", \"AT2G18790\", \"AT1G09570\"], [\"AT2G18790\", \"AT1G09530\", \"AT2G43010\"], [\"AT1G09570\", \"AT1G09530\", \"AT2G43010\"], [\"AT4G09820\", \"AT1G56650\", \"AT1G71030\"], [\"AT1G56650\", \"AT4G09820\", \"AT1G71030\"], [\"AT4G32980\", \"AT1G71030\"], [\"AT5G64330\", \"AT3G45780\"], [\"AT3G26650\", \"AT3G62410\"], [\"AT3G17210\", \"AT3G61260\"], [\"AT3G48040\", \"AT3G61260\"], [\"AT3G55440\", \"AT3G61260\"], [\"AT4G03280\", \"AT4G39710\"]]"
      ]
     },
     "execution_count": 69,
     "metadata": {},
     "output_type": "execute_result"
    }
   ],
   "source": [
    "all=[int_L1,int_L2].flatten!(1)"
   ]
  },
  {
   "cell_type": "code",
   "execution_count": 70,
   "metadata": {
    "collapsed": true
   },
   "outputs": [
    {
     "data": {
      "text/plain": [
       "[[\"AT1G08970\", \"AT1G26780\", \"AT1G30490\", \"AT1G42050\", \"AT1G53090\", \"AT1G60250\", \"AT1G70920\", \"AT1G71030\", \"AT1G76510\", \"AT2G22800\", \"AT2G31380\", \"AT2G44910\", \"AT2G45680\", \"AT2G46340\", \"AT2G46350\", \"AT3G01140\", \"AT3G02150\", \"AT3G07220\", \"AT3G15030\", \"AT3G15354\", \"AT3G18550\", \"AT3G60390\", \"AT4G10240\", \"AT4G12210\", \"AT4G16780\", \"AT4G17460\", \"AT4G37790\", \"AT4G38960\", \"AT5G08330\", \"AT5G12980\", \"AT5G15210\", \"AT5G15850\", \"AT5G17300\", \"AT5G23000\", \"AT5G27910\", \"AT5G47370\", \"AT5G54470\", \"AT5G65050\"], [\"AT1G08970\", \"AT1G26780\", \"AT1G30490\", \"AT1G42050\", \"AT1G53090\", \"AT1G56650\", \"AT1G60250\", \"AT1G70920\", \"AT1G71030\", \"AT1G76510\", \"AT2G22800\", \"AT2G31380\", \"AT2G44910\", \"AT2G45680\", \"AT2G46340\", \"AT2G46350\", \"AT3G01140\", \"AT3G02150\", \"AT3G07220\", \"AT3G15030\", \"AT3G15354\", \"AT3G18550\", \"AT3G60390\", \"AT4G09820\", \"AT4G10240\", \"AT4G12210\", \"AT4G16780\", \"AT4G17460\", \"AT4G32980\", \"AT4G37790\", \"AT4G38960\", \"AT5G08330\", \"AT5G12980\", \"AT5G15210\", \"AT5G15850\", \"AT5G17300\", \"AT5G23000\", \"AT5G27910\", \"AT5G47370\", \"AT5G54470\", \"AT5G65050\"], [\"AT1G56650\", \"AT1G60250\", \"AT1G71030\", \"AT1G76510\", \"AT2G44910\", \"AT2G45680\", \"AT3G02150\", \"AT3G07220\", \"AT3G15030\", \"AT3G18550\", \"AT3G60390\", \"AT4G09820\", \"AT4G16780\", \"AT4G17460\", \"AT4G32980\", \"AT5G08330\", \"AT5G12980\", \"AT5G15210\", \"AT5G15850\", \"AT5G17300\", \"AT5G47370\"], [\"AT1G08970\", \"AT1G26780\", \"AT1G30490\", \"AT1G42050\", \"AT1G60250\", \"AT1G70920\", \"AT2G22800\", \"AT2G44910\", \"AT2G45680\", \"AT3G02150\", \"AT3G07220\", \"AT3G15030\", \"AT3G18550\", \"AT3G60390\", \"AT4G10240\", \"AT4G16780\", \"AT4G17460\", \"AT4G37790\", \"AT5G08330\", \"AT5G12980\", \"AT5G15210\", \"AT5G15850\", \"AT5G17300\", \"AT5G23000\", \"AT5G27910\", \"AT5G47370\"], [\"AT1G08970\", \"AT1G26780\", \"AT1G30490\", \"AT1G42050\", \"AT1G60250\", \"AT1G70920\", \"AT1G71030\", \"AT2G22800\", \"AT2G44910\", \"AT2G45680\", \"AT3G02150\", \"AT3G07220\", \"AT3G15030\", \"AT3G18550\", \"AT3G60390\", \"AT4G10240\", \"AT4G16780\", \"AT4G17460\", \"AT4G37790\", \"AT5G08330\", \"AT5G12980\", \"AT5G15210\", \"AT5G15850\", \"AT5G17300\", \"AT5G23000\", \"AT5G27910\", \"AT5G47370\"], [\"AT1G08970\", \"AT1G26780\", \"AT1G30490\", \"AT1G42050\", \"AT1G60250\", \"AT1G70920\", \"AT1G71030\", \"AT1G76510\", \"AT2G22800\", \"AT2G31380\", \"AT2G44910\", \"AT2G45680\", \"AT3G02150\", \"AT3G07220\", \"AT3G15030\", \"AT3G18550\", \"AT3G60390\", \"AT4G10240\", \"AT4G16780\", \"AT4G17460\", \"AT4G37790\", \"AT4G38960\", \"AT5G08330\", \"AT5G12980\", \"AT5G15210\", \"AT5G15850\", \"AT5G17300\", \"AT5G23000\", \"AT5G27910\", \"AT5G47370\", \"AT5G54470\"], [\"AT1G08970\", \"AT1G26780\", \"AT1G30490\", \"AT1G42050\", \"AT1G53090\", \"AT1G60250\", \"AT1G70920\", \"AT1G76510\", \"AT2G22800\", \"AT2G31380\", \"AT2G44910\", \"AT2G45680\", \"AT2G46340\", \"AT2G46350\", \"AT3G01140\", \"AT3G02150\", \"AT3G07220\", \"AT3G15030\", \"AT3G15354\", \"AT3G18550\", \"AT3G60390\", \"AT4G10240\", \"AT4G12210\", \"AT4G16780\", \"AT4G17460\", \"AT4G37790\", \"AT4G38960\", \"AT5G08330\", \"AT5G12980\", \"AT5G15210\", \"AT5G15850\", \"AT5G17300\", \"AT5G23000\", \"AT5G27910\", \"AT5G47370\", \"AT5G54470\", \"AT5G65050\"], [\"AT1G08970\", \"AT1G26780\", \"AT1G30490\", \"AT1G42050\", \"AT1G53090\", \"AT1G60250\", \"AT2G31380\", \"AT2G45680\", \"AT2G46340\", \"AT2G46350\", \"AT3G01140\", \"AT3G02150\", \"AT3G07220\", \"AT3G15030\", \"AT3G15354\", \"AT3G18550\", \"AT3G60390\", \"AT4G10240\", \"AT4G12210\", \"AT4G16780\", \"AT4G17460\", \"AT4G38960\", \"AT5G08330\", \"AT5G12980\", \"AT5G15210\", \"AT5G15850\", \"AT5G17300\", \"AT5G23000\", \"AT5G27910\", \"AT5G47370\", \"AT5G54470\", \"AT5G65050\"], [\"AT1G08970\", \"AT1G26780\", \"AT1G30490\", \"AT1G42050\", \"AT1G53090\", \"AT1G60250\", \"AT2G31380\", \"AT2G45680\", \"AT2G46340\", \"AT2G46350\", \"AT3G01140\", \"AT3G02150\", \"AT3G07220\", \"AT3G15030\", \"AT3G15354\", \"AT3G18550\", \"AT4G10240\", \"AT4G12210\", \"AT4G16780\", \"AT4G17460\", \"AT4G38960\", \"AT5G08330\", \"AT5G12980\", \"AT5G15210\", \"AT5G15850\", \"AT5G17300\", \"AT5G23000\", \"AT5G27910\", \"AT5G47370\", \"AT5G54470\", \"AT5G65050\"], [\"AT1G08970\", \"AT1G26780\", \"AT1G30490\", \"AT1G42050\", \"AT1G60250\", \"AT1G71030\", \"AT1G76510\", \"AT2G45680\", \"AT3G02150\", \"AT3G07220\", \"AT3G15030\", \"AT3G18550\", \"AT3G60390\", \"AT4G10240\", \"AT4G16780\", \"AT4G17460\", \"AT5G08330\", \"AT5G12980\", \"AT5G15210\", \"AT5G15850\", \"AT5G17300\", \"AT5G23000\", \"AT5G27910\", \"AT5G47370\"], [\"AT1G56650\", \"AT1G60250\", \"AT1G71030\", \"AT3G07220\", \"AT4G09820\", \"AT4G32980\", \"AT5G12980\", \"AT5G17300\"]]"
      ]
     },
     "execution_count": 70,
     "metadata": {},
     "output_type": "execute_result"
    }
   ],
   "source": [
    "networks=Array.new\n",
    "all.each do |item| # get one array of interactions, for example [gene1 , gene2, gene3]\n",
    "  net=Array.new\n",
    "  item.each do |elem| # get one of those genes, for example gene1\n",
    "    (0..all.length-1).each do |i| #iterate over the arrays again (like all[0] = [gene1 , gene2, gene3])\n",
    "      if all[i].any? elem #if the array contains that gene (for example gene1 is in all[0])\n",
    "        net.push(all[i].flatten) # include that array of interactions to my new array \n",
    "      end\n",
    "    end\n",
    "  end\n",
    "  \n",
    "  net.flatten! # unnest array\n",
    "  net.uniq! # delete repetitions\n",
    "  net.sort! # sort array\n",
    "  if net.length > 2 && (genes_list&net).length > 1 # if the network has more than 2 members and contains two genes from the original list of co-expressed genes\n",
    "    networks.push(net)\n",
    "    #puts \" my network is \\n #{net} \\t\"\n",
    "  end\n",
    "end\n",
    "     \n",
    "networks.uniq! #remove duplicated networks"
   ]
  },
  {
   "cell_type": "code",
   "execution_count": 71,
   "metadata": {},
   "outputs": [
    {
     "data": {
      "text/plain": [
       "41"
      ]
     },
     "execution_count": 71,
     "metadata": {},
     "output_type": "execute_result"
    }
   ],
   "source": [
    "networks.flatten.uniq.length\n"
   ]
  },
  {
   "cell_type": "code",
   "execution_count": null,
   "metadata": {},
   "outputs": [],
   "source": []
  },
  {
   "cell_type": "code",
   "execution_count": null,
   "metadata": {},
   "outputs": [],
   "source": []
  },
  {
   "cell_type": "code",
   "execution_count": null,
   "metadata": {},
   "outputs": [],
   "source": []
  },
  {
   "cell_type": "code",
   "execution_count": null,
   "metadata": {},
   "outputs": [],
   "source": []
  },
  {
   "cell_type": "code",
   "execution_count": null,
   "metadata": {},
   "outputs": [],
   "source": []
  },
  {
   "cell_type": "code",
   "execution_count": null,
   "metadata": {},
   "outputs": [],
   "source": []
  },
  {
   "cell_type": "code",
   "execution_count": 60,
   "metadata": {
    "scrolled": false
   },
   "outputs": [
    {
     "name": "stdout",
     "output_type": "stream",
     "text": [
      "good: 32, and bad: 0\n"
     ]
    }
   ],
   "source": [
    "count_good=0\n",
    "count_bad=0\n",
    "\n",
    "networks.each do |net|\n",
    "  if (net.flatten & genes_list).length >1\n",
    "    count_good +=1\n",
    "  else\n",
    "    count_bad +=1\n",
    "  end\n",
    "end\n",
    "\n",
    "puts \"good: #{count_good}, and bad: #{count_bad}\""
   ]
  },
  {
   "cell_type": "code",
   "execution_count": null,
   "metadata": {},
   "outputs": [],
   "source": []
  },
  {
   "cell_type": "code",
   "execution_count": 47,
   "metadata": {},
   "outputs": [
    {
     "data": {
      "text/plain": [
       "[2, 4, 5, 6]"
      ]
     },
     "execution_count": 47,
     "metadata": {},
     "output_type": "execute_result"
    }
   ],
   "source": [
    "a=[1,2,3,4,5,6]\n",
    "b=[2,4,5,6,7,8]\n",
    "a&b"
   ]
  },
  {
   "cell_type": "code",
   "execution_count": 48,
   "metadata": {},
   "outputs": [
    {
     "data": {
      "text/plain": [
       "[1, 3]"
      ]
     },
     "execution_count": 48,
     "metadata": {},
     "output_type": "execute_result"
    }
   ],
   "source": [
    "a - (a&b)"
   ]
  },
  {
   "cell_type": "code",
   "execution_count": 49,
   "metadata": {},
   "outputs": [
    {
     "data": {
      "text/plain": [
       "[1, 2, 3, 4, 5, 6]"
      ]
     },
     "execution_count": 49,
     "metadata": {},
     "output_type": "execute_result"
    }
   ],
   "source": [
    "a"
   ]
  }
 ],
 "metadata": {
  "kernelspec": {
   "display_name": "Ruby 2.6.5",
   "language": "ruby",
   "name": "ruby"
  },
  "language_info": {
   "file_extension": ".rb",
   "mimetype": "application/x-ruby",
   "name": "ruby",
   "version": "2.6.5"
  }
 },
 "nbformat": 4,
 "nbformat_minor": 2
}
